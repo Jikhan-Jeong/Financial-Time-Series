{
  "nbformat": 4,
  "nbformat_minor": 0,
  "metadata": {
    "kernelspec": {
      "display_name": "Python 3",
      "language": "python",
      "name": "python3"
    },
    "language_info": {
      "codemirror_mode": {
        "name": "ipython",
        "version": 3
      },
      "file_extension": ".py",
      "mimetype": "text/x-python",
      "name": "python",
      "nbconvert_exporter": "python",
      "pygments_lexer": "ipython3",
      "version": "3.7.3"
    },
    "varInspector": {
      "cols": {
        "lenName": 16,
        "lenType": 16,
        "lenVar": 40
      },
      "kernels_config": {
        "python": {
          "delete_cmd_postfix": "",
          "delete_cmd_prefix": "del ",
          "library": "var_list.py",
          "varRefreshCmd": "print(var_dic_list())"
        },
        "r": {
          "delete_cmd_postfix": ") ",
          "delete_cmd_prefix": "rm(",
          "library": "var_list.r",
          "varRefreshCmd": "cat(var_dic_list()) "
        }
      },
      "types_to_exclude": [
        "module",
        "function",
        "builtin_function_or_method",
        "instance",
        "_Feature"
      ],
      "window_display": false
    },
    "colab": {
      "name": "ml-regression.ipynb",
      "version": "0.3.2",
      "provenance": []
    }
  },
  "cells": [
    {
      "cell_type": "markdown",
      "metadata": {
        "id": "fXiP32bQrV2a",
        "colab_type": "text"
      },
      "source": [
        "[![Open In Colab](https://colab.research.google.com/assets/colab-badge.svg)](https://colab.research.google.com/github/corazzon/seoul-bike-analysis/blob/master/ml-regression.ipynb)"
      ]
    },
    {
      "cell_type": "markdown",
      "metadata": {
        "id": "FczngULnrV2e",
        "colab_type": "text"
      },
      "source": [
        "# 여의나루역(대여소 번호 207)에서 대여하고 반납한 자전거의 이력을 분석\n",
        "* 여의나루역은 같은 대여소에서 대여반납이 가장 많은 지역\n",
        "* 대여와 반납이 여의나루역인 데이터\n",
        "* 2017년 1월부터 2019년 5월까지의 데이터를 사용"
      ]
    },
    {
      "cell_type": "code",
      "metadata": {
        "id": "KrELFbTcrV2g",
        "colab_type": "code",
        "colab": {}
      },
      "source": [
        "import pandas as pd\n",
        "import numpy as np\n",
        "import seaborn as sns\n",
        "import matplotlib as mpl\n",
        "import matplotlib.pyplot as plt\n",
        "\n",
        "# Window 의 한글 폰트 설정\n",
        "# plt.rc('font',family='Malgun Gothic')\n",
        "# Mac 의 한글 폰트 설정\n",
        "plt.rc('font', family='AppleGothic') \n",
        "plt.rc('axes', unicode_minus=False)\n",
        "\n",
        "%matplotlib inline"
      ],
      "execution_count": 0,
      "outputs": []
    },
    {
      "cell_type": "markdown",
      "metadata": {
        "id": "YiHvLd_wrV2q",
        "colab_type": "text"
      },
      "source": [
        "## Colab 에서 실행을 위한 코드\n",
        "* colab : https://colab.research.google.com/github/corazzon/seoul-bike-analysis/blob/master/ml-regression.ipynb\n",
        "* 아래의 코드는 google colaboratory 에서 실행을 위한 코드로 로컬 아나콘다에서는 주석처리한다.\n",
        "* google colaboratory 에서는 주석을 풀고 폰트 설정과 csv 파일을 불러온다."
      ]
    },
    {
      "cell_type": "code",
      "metadata": {
        "id": "8MXvpOPmrV2s",
        "colab_type": "code",
        "colab": {
          "base_uri": "https://localhost:8080/",
          "height": 73
        },
        "outputId": "ec129585-d78c-45f4-a510-0ef79e4162fb"
      },
      "source": [
        "# 나눔고딕 설치\n",
        "!apt -qq -y install fonts-nanum > /dev/null\n",
        "\n",
        "import matplotlib.font_manager as fm\n",
        "\n",
        "fontpath = '/usr/share/fonts/truetype/nanum/NanumBarunGothic.ttf'\n",
        "font = fm.FontProperties(fname=fontpath, size=9)\n",
        "fm._rebuild()\n",
        "\n",
        "# 그래프에 retina display 적용\n",
        "%config InlineBackend.figure_format = 'retina'\n",
        "\n",
        "# Colab 의 한글 폰트 설정\n",
        "plt.rc('font', family='NanumBarunGothic') "
      ],
      "execution_count": 2,
      "outputs": [
        {
          "output_type": "stream",
          "text": [
            "\n",
            "WARNING: apt does not have a stable CLI interface. Use with caution in scripts.\n",
            "\n"
          ],
          "name": "stdout"
        }
      ]
    },
    {
      "cell_type": "code",
      "metadata": {
        "id": "eNuvE8USrV2y",
        "colab_type": "code",
        "colab": {
          "base_uri": "https://localhost:8080/",
          "height": 55
        },
        "outputId": "c430e783-7e7e-4094-ba59-938b5793dd08"
      },
      "source": [
        "# 구글 드라이브에서 csv 파일을 읽어오기 위해 gauth 인증을 한다.\n",
        "!pip install -U -q PyDrive\n",
        "from pydrive.auth import GoogleAuth\n",
        "from pydrive.drive import GoogleDrive\n",
        "from google.colab import auth\n",
        "from oauth2client.client import GoogleCredentials\n",
        "\n",
        "# PyDrive client 인증\n",
        "auth.authenticate_user()\n",
        "gauth = GoogleAuth()\n",
        "gauth.credentials = GoogleCredentials.get_application_default()\n",
        "drive = GoogleDrive(gauth)"
      ],
      "execution_count": 3,
      "outputs": [
        {
          "output_type": "stream",
          "text": [
            "\u001b[?25l\r\u001b[K     |▎                               | 10kB 15.8MB/s eta 0:00:01\r\u001b[K     |▋                               | 20kB 1.9MB/s eta 0:00:01\r\u001b[K     |█                               | 30kB 2.7MB/s eta 0:00:01\r\u001b[K     |█▎                              | 40kB 1.8MB/s eta 0:00:01\r\u001b[K     |█▋                              | 51kB 2.2MB/s eta 0:00:01\r\u001b[K     |██                              | 61kB 2.6MB/s eta 0:00:01\r\u001b[K     |██▎                             | 71kB 3.0MB/s eta 0:00:01\r\u001b[K     |██▋                             | 81kB 3.4MB/s eta 0:00:01\r\u001b[K     |███                             | 92kB 3.8MB/s eta 0:00:01\r\u001b[K     |███▎                            | 102kB 2.9MB/s eta 0:00:01\r\u001b[K     |███▋                            | 112kB 2.9MB/s eta 0:00:01\r\u001b[K     |████                            | 122kB 2.9MB/s eta 0:00:01\r\u001b[K     |████▎                           | 133kB 2.9MB/s eta 0:00:01\r\u001b[K     |████▋                           | 143kB 2.9MB/s eta 0:00:01\r\u001b[K     |█████                           | 153kB 2.9MB/s eta 0:00:01\r\u001b[K     |█████▎                          | 163kB 2.9MB/s eta 0:00:01\r\u001b[K     |█████▋                          | 174kB 2.9MB/s eta 0:00:01\r\u001b[K     |██████                          | 184kB 2.9MB/s eta 0:00:01\r\u001b[K     |██████▎                         | 194kB 2.9MB/s eta 0:00:01\r\u001b[K     |██████▋                         | 204kB 2.9MB/s eta 0:00:01\r\u001b[K     |███████                         | 215kB 2.9MB/s eta 0:00:01\r\u001b[K     |███████▎                        | 225kB 2.9MB/s eta 0:00:01\r\u001b[K     |███████▋                        | 235kB 2.9MB/s eta 0:00:01\r\u001b[K     |████████                        | 245kB 2.9MB/s eta 0:00:01\r\u001b[K     |████████▎                       | 256kB 2.9MB/s eta 0:00:01\r\u001b[K     |████████▋                       | 266kB 2.9MB/s eta 0:00:01\r\u001b[K     |█████████                       | 276kB 2.9MB/s eta 0:00:01\r\u001b[K     |█████████▎                      | 286kB 2.9MB/s eta 0:00:01\r\u001b[K     |█████████▋                      | 296kB 2.9MB/s eta 0:00:01\r\u001b[K     |██████████                      | 307kB 2.9MB/s eta 0:00:01\r\u001b[K     |██████████▎                     | 317kB 2.9MB/s eta 0:00:01\r\u001b[K     |██████████▋                     | 327kB 2.9MB/s eta 0:00:01\r\u001b[K     |███████████                     | 337kB 2.9MB/s eta 0:00:01\r\u001b[K     |███████████▎                    | 348kB 2.9MB/s eta 0:00:01\r\u001b[K     |███████████▋                    | 358kB 2.9MB/s eta 0:00:01\r\u001b[K     |████████████                    | 368kB 2.9MB/s eta 0:00:01\r\u001b[K     |████████████▎                   | 378kB 2.9MB/s eta 0:00:01\r\u001b[K     |████████████▋                   | 389kB 2.9MB/s eta 0:00:01\r\u001b[K     |█████████████                   | 399kB 2.9MB/s eta 0:00:01\r\u001b[K     |█████████████▎                  | 409kB 2.9MB/s eta 0:00:01\r\u001b[K     |█████████████▋                  | 419kB 2.9MB/s eta 0:00:01\r\u001b[K     |██████████████                  | 430kB 2.9MB/s eta 0:00:01\r\u001b[K     |██████████████▎                 | 440kB 2.9MB/s eta 0:00:01\r\u001b[K     |██████████████▋                 | 450kB 2.9MB/s eta 0:00:01\r\u001b[K     |███████████████                 | 460kB 2.9MB/s eta 0:00:01\r\u001b[K     |███████████████▎                | 471kB 2.9MB/s eta 0:00:01\r\u001b[K     |███████████████▋                | 481kB 2.9MB/s eta 0:00:01\r\u001b[K     |████████████████                | 491kB 2.9MB/s eta 0:00:01\r\u001b[K     |████████████████▎               | 501kB 2.9MB/s eta 0:00:01\r\u001b[K     |████████████████▋               | 512kB 2.9MB/s eta 0:00:01\r\u001b[K     |█████████████████               | 522kB 2.9MB/s eta 0:00:01\r\u001b[K     |█████████████████▎              | 532kB 2.9MB/s eta 0:00:01\r\u001b[K     |█████████████████▋              | 542kB 2.9MB/s eta 0:00:01\r\u001b[K     |██████████████████              | 552kB 2.9MB/s eta 0:00:01\r\u001b[K     |██████████████████▎             | 563kB 2.9MB/s eta 0:00:01\r\u001b[K     |██████████████████▋             | 573kB 2.9MB/s eta 0:00:01\r\u001b[K     |███████████████████             | 583kB 2.9MB/s eta 0:00:01\r\u001b[K     |███████████████████▎            | 593kB 2.9MB/s eta 0:00:01\r\u001b[K     |███████████████████▋            | 604kB 2.9MB/s eta 0:00:01\r\u001b[K     |████████████████████            | 614kB 2.9MB/s eta 0:00:01\r\u001b[K     |████████████████████▎           | 624kB 2.9MB/s eta 0:00:01\r\u001b[K     |████████████████████▋           | 634kB 2.9MB/s eta 0:00:01\r\u001b[K     |█████████████████████           | 645kB 2.9MB/s eta 0:00:01\r\u001b[K     |█████████████████████▎          | 655kB 2.9MB/s eta 0:00:01\r\u001b[K     |█████████████████████▋          | 665kB 2.9MB/s eta 0:00:01\r\u001b[K     |██████████████████████          | 675kB 2.9MB/s eta 0:00:01\r\u001b[K     |██████████████████████▎         | 686kB 2.9MB/s eta 0:00:01\r\u001b[K     |██████████████████████▋         | 696kB 2.9MB/s eta 0:00:01\r\u001b[K     |███████████████████████         | 706kB 2.9MB/s eta 0:00:01\r\u001b[K     |███████████████████████▎        | 716kB 2.9MB/s eta 0:00:01\r\u001b[K     |███████████████████████▋        | 727kB 2.9MB/s eta 0:00:01\r\u001b[K     |████████████████████████        | 737kB 2.9MB/s eta 0:00:01\r\u001b[K     |████████████████████████▎       | 747kB 2.9MB/s eta 0:00:01\r\u001b[K     |████████████████████████▋       | 757kB 2.9MB/s eta 0:00:01\r\u001b[K     |████████████████████████▉       | 768kB 2.9MB/s eta 0:00:01\r\u001b[K     |█████████████████████████▏      | 778kB 2.9MB/s eta 0:00:01\r\u001b[K     |█████████████████████████▌      | 788kB 2.9MB/s eta 0:00:01\r\u001b[K     |█████████████████████████▉      | 798kB 2.9MB/s eta 0:00:01\r\u001b[K     |██████████████████████████▏     | 808kB 2.9MB/s eta 0:00:01\r\u001b[K     |██████████████████████████▌     | 819kB 2.9MB/s eta 0:00:01\r\u001b[K     |██████████████████████████▉     | 829kB 2.9MB/s eta 0:00:01\r\u001b[K     |███████████████████████████▏    | 839kB 2.9MB/s eta 0:00:01\r\u001b[K     |███████████████████████████▌    | 849kB 2.9MB/s eta 0:00:01\r\u001b[K     |███████████████████████████▉    | 860kB 2.9MB/s eta 0:00:01\r\u001b[K     |████████████████████████████▏   | 870kB 2.9MB/s eta 0:00:01\r\u001b[K     |████████████████████████████▌   | 880kB 2.9MB/s eta 0:00:01\r\u001b[K     |████████████████████████████▉   | 890kB 2.9MB/s eta 0:00:01\r\u001b[K     |█████████████████████████████▏  | 901kB 2.9MB/s eta 0:00:01\r\u001b[K     |█████████████████████████████▌  | 911kB 2.9MB/s eta 0:00:01\r\u001b[K     |█████████████████████████████▉  | 921kB 2.9MB/s eta 0:00:01\r\u001b[K     |██████████████████████████████▏ | 931kB 2.9MB/s eta 0:00:01\r\u001b[K     |██████████████████████████████▌ | 942kB 2.9MB/s eta 0:00:01\r\u001b[K     |██████████████████████████████▉ | 952kB 2.9MB/s eta 0:00:01\r\u001b[K     |███████████████████████████████▏| 962kB 2.9MB/s eta 0:00:01\r\u001b[K     |███████████████████████████████▌| 972kB 2.9MB/s eta 0:00:01\r\u001b[K     |███████████████████████████████▉| 983kB 2.9MB/s eta 0:00:01\r\u001b[K     |████████████████████████████████| 993kB 2.9MB/s \n",
            "\u001b[?25h  Building wheel for PyDrive (setup.py) ... \u001b[?25l\u001b[?25hdone\n"
          ],
          "name": "stdout"
        }
      ]
    },
    {
      "cell_type": "code",
      "metadata": {
        "id": "j73SnpGDrV22",
        "colab_type": "code",
        "colab": {
          "base_uri": "https://localhost:8080/",
          "height": 36
        },
        "outputId": "af458395-e5bf-4a92-ca10-d35305c6f6b5"
      },
      "source": [
        "# 공유 가능한 링크로 파일 가져오기\n",
        "url ='https://drive.google.com/open?id=1ngU6y2Fl0cz6ckCuWvXSHKs5aLsh48TH'\n",
        "id = url.split('=')[1]\n",
        "print(id)\n",
        "downloaded = drive.CreateFile({'id':id}) \n",
        "# data 폴더에 파일을 관리하며, 폴더가 없다면 만들어서 파일을 관리하도록 한다.\n",
        "%mkdir data\n",
        "downloaded.GetContentFile('data/bike-station-207.csv')  "
      ],
      "execution_count": 5,
      "outputs": [
        {
          "output_type": "stream",
          "text": [
            "1ngU6y2Fl0cz6ckCuWvXSHKs5aLsh48TH\n"
          ],
          "name": "stdout"
        }
      ]
    },
    {
      "cell_type": "code",
      "metadata": {
        "id": "XNuoiIqFrV27",
        "colab_type": "code",
        "colab": {
          "base_uri": "https://localhost:8080/",
          "height": 36
        },
        "outputId": "a5dce5db-d095-4549-bb2d-850558735297"
      },
      "source": [
        "df = pd.read_csv(\"data/bike-station-207.csv\", low_memory=False)\n",
        "\n",
        "df.shape"
      ],
      "execution_count": 6,
      "outputs": [
        {
          "output_type": "execute_result",
          "data": {
            "text/plain": [
              "(259149, 7)"
            ]
          },
          "metadata": {
            "tags": []
          },
          "execution_count": 6
        }
      ]
    },
    {
      "cell_type": "code",
      "metadata": {
        "id": "uq72ejYorV3D",
        "colab_type": "code",
        "colab": {}
      },
      "source": [
        "# 반납, 대여 모두 같은 207로 데이터 크기를 줄여서 예측한다.\n",
        "df = df[(df[\"대여대여소번호\"] == 207) & (df[\"반납대여소번호\"] == 207)].copy()"
      ],
      "execution_count": 0,
      "outputs": []
    },
    {
      "cell_type": "code",
      "metadata": {
        "id": "FJ025cJOrV3H",
        "colab_type": "code",
        "colab": {
          "base_uri": "https://localhost:8080/",
          "height": 36
        },
        "outputId": "6fd6b50f-4828-42cc-aec5-d2656a5a4979"
      },
      "source": [
        "df.shape"
      ],
      "execution_count": 8,
      "outputs": [
        {
          "output_type": "execute_result",
          "data": {
            "text/plain": [
              "(48508, 7)"
            ]
          },
          "metadata": {
            "tags": []
          },
          "execution_count": 8
        }
      ]
    },
    {
      "cell_type": "code",
      "metadata": {
        "scrolled": true,
        "id": "7XSQEp-6rV3M",
        "colab_type": "code",
        "colab": {
          "base_uri": "https://localhost:8080/",
          "height": 210
        },
        "outputId": "8d5ef204-9786-41e7-c01b-3048ce3fa33b"
      },
      "source": [
        "df.head(3)"
      ],
      "execution_count": 9,
      "outputs": [
        {
          "output_type": "execute_result",
          "data": {
            "text/html": [
              "<div>\n",
              "<style scoped>\n",
              "    .dataframe tbody tr th:only-of-type {\n",
              "        vertical-align: middle;\n",
              "    }\n",
              "\n",
              "    .dataframe tbody tr th {\n",
              "        vertical-align: top;\n",
              "    }\n",
              "\n",
              "    .dataframe thead th {\n",
              "        text-align: right;\n",
              "    }\n",
              "</style>\n",
              "<table border=\"1\" class=\"dataframe\">\n",
              "  <thead>\n",
              "    <tr style=\"text-align: right;\">\n",
              "      <th></th>\n",
              "      <th>자전거번호SPB</th>\n",
              "      <th>대여일시</th>\n",
              "      <th>대여대여소번호</th>\n",
              "      <th>반납일시</th>\n",
              "      <th>반납대여소번호</th>\n",
              "      <th>이용시간(분)</th>\n",
              "      <th>이용거리(M)</th>\n",
              "    </tr>\n",
              "  </thead>\n",
              "  <tbody>\n",
              "    <tr>\n",
              "      <th>4</th>\n",
              "      <td>4563</td>\n",
              "      <td>2017-01-01 12:54</td>\n",
              "      <td>207</td>\n",
              "      <td>2017-01-01 13:42</td>\n",
              "      <td>207</td>\n",
              "      <td>47</td>\n",
              "      <td>2700.0</td>\n",
              "    </tr>\n",
              "    <tr>\n",
              "      <th>5</th>\n",
              "      <td>1886</td>\n",
              "      <td>2017-01-01 12:57</td>\n",
              "      <td>207</td>\n",
              "      <td>2017-01-01 13:42</td>\n",
              "      <td>207</td>\n",
              "      <td>44</td>\n",
              "      <td>3340.0</td>\n",
              "    </tr>\n",
              "    <tr>\n",
              "      <th>11</th>\n",
              "      <td>2166</td>\n",
              "      <td>2017-01-01 16:46</td>\n",
              "      <td>207</td>\n",
              "      <td>2017-01-01 17:37</td>\n",
              "      <td>207</td>\n",
              "      <td>50</td>\n",
              "      <td>6730.0</td>\n",
              "    </tr>\n",
              "  </tbody>\n",
              "</table>\n",
              "</div>"
            ],
            "text/plain": [
              "    자전거번호SPB              대여일시  대여대여소번호  ... 반납대여소번호  이용시간(분)  이용거리(M)\n",
              "4       4563  2017-01-01 12:54      207  ...     207       47   2700.0\n",
              "5       1886  2017-01-01 12:57      207  ...     207       44   3340.0\n",
              "11      2166  2017-01-01 16:46      207  ...     207       50   6730.0\n",
              "\n",
              "[3 rows x 7 columns]"
            ]
          },
          "metadata": {
            "tags": []
          },
          "execution_count": 9
        }
      ]
    },
    {
      "cell_type": "code",
      "metadata": {
        "id": "YEvTQLwnrV3U",
        "colab_type": "code",
        "colab": {
          "base_uri": "https://localhost:8080/",
          "height": 210
        },
        "outputId": "434d6611-045b-4561-a77c-5ea75933419e"
      },
      "source": [
        "df.tail(3)"
      ],
      "execution_count": 10,
      "outputs": [
        {
          "output_type": "execute_result",
          "data": {
            "text/html": [
              "<div>\n",
              "<style scoped>\n",
              "    .dataframe tbody tr th:only-of-type {\n",
              "        vertical-align: middle;\n",
              "    }\n",
              "\n",
              "    .dataframe tbody tr th {\n",
              "        vertical-align: top;\n",
              "    }\n",
              "\n",
              "    .dataframe thead th {\n",
              "        text-align: right;\n",
              "    }\n",
              "</style>\n",
              "<table border=\"1\" class=\"dataframe\">\n",
              "  <thead>\n",
              "    <tr style=\"text-align: right;\">\n",
              "      <th></th>\n",
              "      <th>자전거번호SPB</th>\n",
              "      <th>대여일시</th>\n",
              "      <th>대여대여소번호</th>\n",
              "      <th>반납일시</th>\n",
              "      <th>반납대여소번호</th>\n",
              "      <th>이용시간(분)</th>\n",
              "      <th>이용거리(M)</th>\n",
              "    </tr>\n",
              "  </thead>\n",
              "  <tbody>\n",
              "    <tr>\n",
              "      <th>259106</th>\n",
              "      <td>23431</td>\n",
              "      <td>2019-05-31 22:43:05</td>\n",
              "      <td>207</td>\n",
              "      <td>2019-05-31 23:39:24</td>\n",
              "      <td>207</td>\n",
              "      <td>54</td>\n",
              "      <td>7200.0</td>\n",
              "    </tr>\n",
              "    <tr>\n",
              "      <th>259144</th>\n",
              "      <td>18210</td>\n",
              "      <td>2019-05-31 23:34:38</td>\n",
              "      <td>207</td>\n",
              "      <td>2019-06-01 00:59:53</td>\n",
              "      <td>207</td>\n",
              "      <td>84</td>\n",
              "      <td>10080.0</td>\n",
              "    </tr>\n",
              "    <tr>\n",
              "      <th>259145</th>\n",
              "      <td>13394</td>\n",
              "      <td>2019-05-31 23:34:11</td>\n",
              "      <td>207</td>\n",
              "      <td>2019-06-01 01:00:16</td>\n",
              "      <td>207</td>\n",
              "      <td>85</td>\n",
              "      <td>10070.0</td>\n",
              "    </tr>\n",
              "  </tbody>\n",
              "</table>\n",
              "</div>"
            ],
            "text/plain": [
              "        자전거번호SPB                 대여일시  대여대여소번호  ... 반납대여소번호  이용시간(분)  이용거리(M)\n",
              "259106     23431  2019-05-31 22:43:05      207  ...     207       54   7200.0\n",
              "259144     18210  2019-05-31 23:34:38      207  ...     207       84  10080.0\n",
              "259145     13394  2019-05-31 23:34:11      207  ...     207       85  10070.0\n",
              "\n",
              "[3 rows x 7 columns]"
            ]
          },
          "metadata": {
            "tags": []
          },
          "execution_count": 10
        }
      ]
    },
    {
      "cell_type": "code",
      "metadata": {
        "scrolled": true,
        "id": "8BcJN2pCrV3Y",
        "colab_type": "code",
        "colab": {
          "base_uri": "https://localhost:8080/",
          "height": 241
        },
        "outputId": "2068aad9-db9d-4b43-983e-196936df79df"
      },
      "source": [
        "df.info()"
      ],
      "execution_count": 11,
      "outputs": [
        {
          "output_type": "stream",
          "text": [
            "<class 'pandas.core.frame.DataFrame'>\n",
            "Int64Index: 48508 entries, 4 to 259145\n",
            "Data columns (total 7 columns):\n",
            "자전거번호SPB    48508 non-null int64\n",
            "대여일시        48508 non-null object\n",
            "대여대여소번호     48508 non-null int64\n",
            "반납일시        48508 non-null object\n",
            "반납대여소번호     48508 non-null int64\n",
            "이용시간(분)     48508 non-null int64\n",
            "이용거리(M)     48508 non-null float64\n",
            "dtypes: float64(1), int64(4), object(2)\n",
            "memory usage: 3.0+ MB\n"
          ],
          "name": "stdout"
        }
      ]
    },
    {
      "cell_type": "code",
      "metadata": {
        "id": "qBKD6dbGrV3d",
        "colab_type": "code",
        "colab": {
          "base_uri": "https://localhost:8080/",
          "height": 73
        },
        "outputId": "9b11fbda-6c67-4a02-ac12-e2a111d9e2fe"
      },
      "source": [
        "# object 타입에는 .dt accessor를 사용할 수 없기 때문에\n",
        "# 대여일시와 반납일시를 datetime 형태로 변환해 줍니다.\n",
        "df[\"대여일시\"] = pd.to_datetime(df[\"대여일시\"])\n",
        "df[\"반납일시\"] = pd.to_datetime(df[\"반납일시\"])\n",
        "\n",
        "df[[\"대여일시\", \"반납일시\"]].dtypes"
      ],
      "execution_count": 12,
      "outputs": [
        {
          "output_type": "execute_result",
          "data": {
            "text/plain": [
              "대여일시    datetime64[ns]\n",
              "반납일시    datetime64[ns]\n",
              "dtype: object"
            ]
          },
          "metadata": {
            "tags": []
          },
          "execution_count": 12
        }
      ]
    },
    {
      "cell_type": "code",
      "metadata": {
        "id": "J6SnCoBzrV3j",
        "colab_type": "code",
        "colab": {
          "base_uri": "https://localhost:8080/",
          "height": 166
        },
        "outputId": "93e210cb-eb7f-4dce-bcad-6e3f3f387f7f"
      },
      "source": [
        "df[\"대여연도\"] = df[\"대여일시\"].dt.year\n",
        "df[\"대여월\"] = df[\"대여일시\"].dt.month\n",
        "df[\"대여일\"] = df[\"대여일시\"].dt.day\n",
        "df[\"대여시간\"] = df[\"대여일시\"].dt.hour\n",
        "df[\"대여요일\"] = df[\"대여일시\"].dt.dayofweek\n",
        "df[\"대여일자\"] = df[\"대여일시\"].dt.date\n",
        "\n",
        "df.sample()"
      ],
      "execution_count": 13,
      "outputs": [
        {
          "output_type": "execute_result",
          "data": {
            "text/html": [
              "<div>\n",
              "<style scoped>\n",
              "    .dataframe tbody tr th:only-of-type {\n",
              "        vertical-align: middle;\n",
              "    }\n",
              "\n",
              "    .dataframe tbody tr th {\n",
              "        vertical-align: top;\n",
              "    }\n",
              "\n",
              "    .dataframe thead th {\n",
              "        text-align: right;\n",
              "    }\n",
              "</style>\n",
              "<table border=\"1\" class=\"dataframe\">\n",
              "  <thead>\n",
              "    <tr style=\"text-align: right;\">\n",
              "      <th></th>\n",
              "      <th>자전거번호SPB</th>\n",
              "      <th>대여일시</th>\n",
              "      <th>대여대여소번호</th>\n",
              "      <th>반납일시</th>\n",
              "      <th>반납대여소번호</th>\n",
              "      <th>이용시간(분)</th>\n",
              "      <th>이용거리(M)</th>\n",
              "      <th>대여연도</th>\n",
              "      <th>대여월</th>\n",
              "      <th>대여일</th>\n",
              "      <th>대여시간</th>\n",
              "      <th>대여요일</th>\n",
              "      <th>대여일자</th>\n",
              "    </tr>\n",
              "  </thead>\n",
              "  <tbody>\n",
              "    <tr>\n",
              "      <th>125206</th>\n",
              "      <td>6325</td>\n",
              "      <td>2018-06-03 13:04:45</td>\n",
              "      <td>207</td>\n",
              "      <td>2018-06-03 14:18:08</td>\n",
              "      <td>207</td>\n",
              "      <td>72</td>\n",
              "      <td>11760.0</td>\n",
              "      <td>2018</td>\n",
              "      <td>6</td>\n",
              "      <td>3</td>\n",
              "      <td>13</td>\n",
              "      <td>6</td>\n",
              "      <td>2018-06-03</td>\n",
              "    </tr>\n",
              "  </tbody>\n",
              "</table>\n",
              "</div>"
            ],
            "text/plain": [
              "        자전거번호SPB                대여일시  대여대여소번호  ... 대여시간  대여요일        대여일자\n",
              "125206      6325 2018-06-03 13:04:45      207  ...   13     6  2018-06-03\n",
              "\n",
              "[1 rows x 13 columns]"
            ]
          },
          "metadata": {
            "tags": []
          },
          "execution_count": 13
        }
      ]
    },
    {
      "cell_type": "code",
      "metadata": {
        "id": "v4ZZQcSMrV3o",
        "colab_type": "code",
        "colab": {
          "base_uri": "https://localhost:8080/",
          "height": 238
        },
        "outputId": "db4ab6f6-a4a3-4a44-f8e0-eb853a9423c7"
      },
      "source": [
        "df[\"반납연도\"] = df[\"반납일시\"].dt.year\n",
        "df[\"반납월\"] = df[\"반납일시\"].dt.month\n",
        "df[\"반납일\"] = df[\"반납일시\"].dt.day\n",
        "df[\"반납시간\"] = df[\"반납일시\"].dt.hour\n",
        "df[\"반납요일\"] = df[\"반납일시\"].dt.dayofweek\n",
        "df[\"반납일자\"] = df[\"반납일시\"].dt.date\n",
        "\n",
        "df.sample()"
      ],
      "execution_count": 14,
      "outputs": [
        {
          "output_type": "execute_result",
          "data": {
            "text/html": [
              "<div>\n",
              "<style scoped>\n",
              "    .dataframe tbody tr th:only-of-type {\n",
              "        vertical-align: middle;\n",
              "    }\n",
              "\n",
              "    .dataframe tbody tr th {\n",
              "        vertical-align: top;\n",
              "    }\n",
              "\n",
              "    .dataframe thead th {\n",
              "        text-align: right;\n",
              "    }\n",
              "</style>\n",
              "<table border=\"1\" class=\"dataframe\">\n",
              "  <thead>\n",
              "    <tr style=\"text-align: right;\">\n",
              "      <th></th>\n",
              "      <th>자전거번호SPB</th>\n",
              "      <th>대여일시</th>\n",
              "      <th>대여대여소번호</th>\n",
              "      <th>반납일시</th>\n",
              "      <th>반납대여소번호</th>\n",
              "      <th>이용시간(분)</th>\n",
              "      <th>이용거리(M)</th>\n",
              "      <th>대여연도</th>\n",
              "      <th>대여월</th>\n",
              "      <th>대여일</th>\n",
              "      <th>대여시간</th>\n",
              "      <th>대여요일</th>\n",
              "      <th>대여일자</th>\n",
              "      <th>반납연도</th>\n",
              "      <th>반납월</th>\n",
              "      <th>반납일</th>\n",
              "      <th>반납시간</th>\n",
              "      <th>반납요일</th>\n",
              "      <th>반납일자</th>\n",
              "    </tr>\n",
              "  </thead>\n",
              "  <tbody>\n",
              "    <tr>\n",
              "      <th>220434</th>\n",
              "      <td>5096</td>\n",
              "      <td>2019-04-12 15:38:36</td>\n",
              "      <td>207</td>\n",
              "      <td>2019-04-12 16:37:27</td>\n",
              "      <td>207</td>\n",
              "      <td>57</td>\n",
              "      <td>6450.0</td>\n",
              "      <td>2019</td>\n",
              "      <td>4</td>\n",
              "      <td>12</td>\n",
              "      <td>15</td>\n",
              "      <td>4</td>\n",
              "      <td>2019-04-12</td>\n",
              "      <td>2019</td>\n",
              "      <td>4</td>\n",
              "      <td>12</td>\n",
              "      <td>16</td>\n",
              "      <td>4</td>\n",
              "      <td>2019-04-12</td>\n",
              "    </tr>\n",
              "  </tbody>\n",
              "</table>\n",
              "</div>"
            ],
            "text/plain": [
              "        자전거번호SPB                대여일시  대여대여소번호  ... 반납시간  반납요일        반납일자\n",
              "220434      5096 2019-04-12 15:38:36      207  ...   16     4  2019-04-12\n",
              "\n",
              "[1 rows x 19 columns]"
            ]
          },
          "metadata": {
            "tags": []
          },
          "execution_count": 14
        }
      ]
    },
    {
      "cell_type": "code",
      "metadata": {
        "id": "kT7x5aP-rV3s",
        "colab_type": "code",
        "colab": {
          "base_uri": "https://localhost:8080/",
          "height": 92
        },
        "outputId": "6813be54-35a3-4826-f68e-43299537d3a1"
      },
      "source": [
        "df.columns"
      ],
      "execution_count": 15,
      "outputs": [
        {
          "output_type": "execute_result",
          "data": {
            "text/plain": [
              "Index(['자전거번호SPB', '대여일시', '대여대여소번호', '반납일시', '반납대여소번호', '이용시간(분)', '이용거리(M)',\n",
              "       '대여연도', '대여월', '대여일', '대여시간', '대여요일', '대여일자', '반납연도', '반납월', '반납일',\n",
              "       '반납시간', '반납요일', '반납일자'],\n",
              "      dtype='object')"
            ]
          },
          "metadata": {
            "tags": []
          },
          "execution_count": 15
        }
      ]
    },
    {
      "cell_type": "markdown",
      "metadata": {
        "id": "SM9F0eP7rV31",
        "colab_type": "text"
      },
      "source": [
        "# 학습과 예측에 사용할 컬럼 만들기"
      ]
    },
    {
      "cell_type": "code",
      "metadata": {
        "id": "o1NtQ2vmrV32",
        "colab_type": "code",
        "colab": {
          "base_uri": "https://localhost:8080/",
          "height": 279
        },
        "outputId": "c3417405-620b-4558-e802-4a0cb4367268"
      },
      "source": [
        "# 학습과 예측에 사용할 컬럼\n",
        "# 이용거리를 피처에 추가하고 제외해 본다.\n",
        "feature_columns = ['자전거번호SPB', '대여대여소번호', '반납대여소번호','이용시간(분)',\n",
        "       '대여연도', '대여월', '대여일', '대여시간', '대여요일', '반납연도', '반납월', '반납일',\n",
        "       '반납시간', '반납요일']\n",
        "feature_columns"
      ],
      "execution_count": 16,
      "outputs": [
        {
          "output_type": "execute_result",
          "data": {
            "text/plain": [
              "['자전거번호SPB',\n",
              " '대여대여소번호',\n",
              " '반납대여소번호',\n",
              " '이용시간(분)',\n",
              " '대여연도',\n",
              " '대여월',\n",
              " '대여일',\n",
              " '대여시간',\n",
              " '대여요일',\n",
              " '반납연도',\n",
              " '반납월',\n",
              " '반납일',\n",
              " '반납시간',\n",
              " '반납요일']"
            ]
          },
          "metadata": {
            "tags": []
          },
          "execution_count": 16
        }
      ]
    },
    {
      "cell_type": "code",
      "metadata": {
        "id": "3jVdMrTIrV37",
        "colab_type": "code",
        "colab": {
          "base_uri": "https://localhost:8080/",
          "height": 36
        },
        "outputId": "9b0baee2-cfbb-4e1f-d7c5-6b0a4574735b"
      },
      "source": [
        "label_column = \"이용거리(M)\"\n",
        "label_column"
      ],
      "execution_count": 17,
      "outputs": [
        {
          "output_type": "execute_result",
          "data": {
            "text/plain": [
              "'이용거리(M)'"
            ]
          },
          "metadata": {
            "tags": []
          },
          "execution_count": 17
        }
      ]
    },
    {
      "cell_type": "markdown",
      "metadata": {
        "id": "t_26qwDzrV4A",
        "colab_type": "text"
      },
      "source": [
        "# 학습과 예측에 사용할 데이터 세트 나누기"
      ]
    },
    {
      "cell_type": "code",
      "metadata": {
        "id": "11j8F0sYrV4C",
        "colab_type": "code",
        "colab": {
          "base_uri": "https://localhost:8080/",
          "height": 185
        },
        "outputId": "8a760522-8347-45bf-fd0c-30fd15d592ea"
      },
      "source": [
        "df[label_column].describe()"
      ],
      "execution_count": 18,
      "outputs": [
        {
          "output_type": "execute_result",
          "data": {
            "text/plain": [
              "count     48508.000000\n",
              "mean       7130.801847\n",
              "std        8845.805091\n",
              "min           0.000000\n",
              "25%        3620.000000\n",
              "50%        5850.000000\n",
              "75%        8540.000000\n",
              "max      253750.000000\n",
              "Name: 이용거리(M), dtype: float64"
            ]
          },
          "metadata": {
            "tags": []
          },
          "execution_count": 18
        }
      ]
    },
    {
      "cell_type": "code",
      "metadata": {
        "id": "4rfJPbAirV4I",
        "colab_type": "code",
        "colab": {
          "base_uri": "https://localhost:8080/",
          "height": 131
        },
        "outputId": "8f089a74-952b-4a45-808a-2fc56214bebf"
      },
      "source": [
        "df[df[label_column] == df[label_column].max()]"
      ],
      "execution_count": 19,
      "outputs": [
        {
          "output_type": "execute_result",
          "data": {
            "text/html": [
              "<div>\n",
              "<style scoped>\n",
              "    .dataframe tbody tr th:only-of-type {\n",
              "        vertical-align: middle;\n",
              "    }\n",
              "\n",
              "    .dataframe tbody tr th {\n",
              "        vertical-align: top;\n",
              "    }\n",
              "\n",
              "    .dataframe thead th {\n",
              "        text-align: right;\n",
              "    }\n",
              "</style>\n",
              "<table border=\"1\" class=\"dataframe\">\n",
              "  <thead>\n",
              "    <tr style=\"text-align: right;\">\n",
              "      <th></th>\n",
              "      <th>자전거번호SPB</th>\n",
              "      <th>대여일시</th>\n",
              "      <th>대여대여소번호</th>\n",
              "      <th>반납일시</th>\n",
              "      <th>반납대여소번호</th>\n",
              "      <th>이용시간(분)</th>\n",
              "      <th>이용거리(M)</th>\n",
              "      <th>대여연도</th>\n",
              "      <th>대여월</th>\n",
              "      <th>대여일</th>\n",
              "      <th>대여시간</th>\n",
              "      <th>대여요일</th>\n",
              "      <th>대여일자</th>\n",
              "      <th>반납연도</th>\n",
              "      <th>반납월</th>\n",
              "      <th>반납일</th>\n",
              "      <th>반납시간</th>\n",
              "      <th>반납요일</th>\n",
              "      <th>반납일자</th>\n",
              "    </tr>\n",
              "  </thead>\n",
              "  <tbody>\n",
              "    <tr>\n",
              "      <th>197881</th>\n",
              "      <td>13645</td>\n",
              "      <td>2018-11-13 12:31:27</td>\n",
              "      <td>207</td>\n",
              "      <td>2018-11-13 12:47:55</td>\n",
              "      <td>207</td>\n",
              "      <td>16</td>\n",
              "      <td>253750.0</td>\n",
              "      <td>2018</td>\n",
              "      <td>11</td>\n",
              "      <td>13</td>\n",
              "      <td>12</td>\n",
              "      <td>1</td>\n",
              "      <td>2018-11-13</td>\n",
              "      <td>2018</td>\n",
              "      <td>11</td>\n",
              "      <td>13</td>\n",
              "      <td>12</td>\n",
              "      <td>1</td>\n",
              "      <td>2018-11-13</td>\n",
              "    </tr>\n",
              "  </tbody>\n",
              "</table>\n",
              "</div>"
            ],
            "text/plain": [
              "        자전거번호SPB                대여일시  대여대여소번호  ... 반납시간  반납요일        반납일자\n",
              "197881     13645 2018-11-13 12:31:27      207  ...   12     1  2018-11-13\n",
              "\n",
              "[1 rows x 19 columns]"
            ]
          },
          "metadata": {
            "tags": []
          },
          "execution_count": 19
        }
      ]
    },
    {
      "cell_type": "code",
      "metadata": {
        "id": "Beok39MxrV4N",
        "colab_type": "code",
        "colab": {
          "base_uri": "https://localhost:8080/",
          "height": 36
        },
        "outputId": "28840449-7b8a-4ae9-fbe0-b2da8227c69f"
      },
      "source": [
        "# 90% 는 학습에 사용하고 10%는 예측에 사용합니다.\n",
        "split_index = round(df.shape[0] * 0.9)\n",
        "split_index"
      ],
      "execution_count": 20,
      "outputs": [
        {
          "output_type": "execute_result",
          "data": {
            "text/plain": [
              "43657"
            ]
          },
          "metadata": {
            "tags": []
          },
          "execution_count": 20
        }
      ]
    },
    {
      "cell_type": "code",
      "metadata": {
        "id": "_YfKJBQsrV4d",
        "colab_type": "code",
        "colab": {
          "base_uri": "https://localhost:8080/",
          "height": 55
        },
        "outputId": "ad72feb9-4549-4375-911f-c4feebf543e6"
      },
      "source": [
        "# 데이터를 학습과 예측에 사용할 용도로 나눕니다.\n",
        "# 파이썬의 슬라이싱 기능을 활용해서 나눕니다.\n",
        "train = df[:split_index].copy()\n",
        "test = df[split_index:].copy()\n",
        "\n",
        "print(\"학습 데이터 크기\", train.shape)\n",
        "print(\"테스트 데이터 크기\", test.shape)"
      ],
      "execution_count": 21,
      "outputs": [
        {
          "output_type": "stream",
          "text": [
            "학습 데이터 크기 (43657, 19)\n",
            "테스트 데이터 크기 (4851, 19)\n"
          ],
          "name": "stdout"
        }
      ]
    },
    {
      "cell_type": "code",
      "metadata": {
        "id": "81sfiblwrV4n",
        "colab_type": "code",
        "colab": {
          "base_uri": "https://localhost:8080/",
          "height": 55
        },
        "outputId": "53f243fc-2cf1-4fa2-a681-da3c0dd07e16"
      },
      "source": [
        "# 학습, 예측에 사용할 컬럼만 추출\n",
        "X_train = train[feature_columns].copy()\n",
        "X_test = test[feature_columns].copy()\n",
        "\n",
        "print(\"학습에 사용할 피처 크기\", X_train.shape)\n",
        "print(\"예측에 사용할 피처 크기\", X_test.shape)"
      ],
      "execution_count": 22,
      "outputs": [
        {
          "output_type": "stream",
          "text": [
            "학습에 사용할 피처 크기 (43657, 14)\n",
            "예측에 사용할 피처 크기 (4851, 14)\n"
          ],
          "name": "stdout"
        }
      ]
    },
    {
      "cell_type": "code",
      "metadata": {
        "id": "gVzAMZncrV4s",
        "colab_type": "code",
        "colab": {
          "base_uri": "https://localhost:8080/",
          "height": 129
        },
        "outputId": "dc3e30d0-ab02-4aa1-d987-2718d21eee6b"
      },
      "source": [
        "y_train = train[label_column]\n",
        "y_train.head()"
      ],
      "execution_count": 23,
      "outputs": [
        {
          "output_type": "execute_result",
          "data": {
            "text/plain": [
              "4     2700.0\n",
              "5     3340.0\n",
              "11    6730.0\n",
              "12    7120.0\n",
              "13    9960.0\n",
              "Name: 이용거리(M), dtype: float64"
            ]
          },
          "metadata": {
            "tags": []
          },
          "execution_count": 23
        }
      ]
    },
    {
      "cell_type": "markdown",
      "metadata": {
        "id": "cgys-cGUrV4y",
        "colab_type": "text"
      },
      "source": [
        "# 머신러닝 모델을 사용해서 학습과 예측하기"
      ]
    },
    {
      "cell_type": "markdown",
      "metadata": {
        "id": "TlN2TF3krV40",
        "colab_type": "text"
      },
      "source": [
        "## 랜덤포레스트 사용하기"
      ]
    },
    {
      "cell_type": "code",
      "metadata": {
        "id": "u8f7cK5irV41",
        "colab_type": "code",
        "colab": {
          "base_uri": "https://localhost:8080/",
          "height": 148
        },
        "outputId": "c50b8f79-0461-40bd-cde9-7ac8c88b9c88"
      },
      "source": [
        "from sklearn.ensemble import RandomForestRegressor\n",
        "\n",
        "# n_estimators 는 트리의 갯수를 의미하며\n",
        "# random_state 는 옵션값을 고정해서 동일 조건에서 같은 값을 반환하도록 한다.\n",
        "# n_jobs 는 사용할 CPU의 코어수를 지정하는데 -1로 지정하면 장비에 있는 CPU코어를 모두 사용하게 한다.\n",
        "\n",
        "# 모델 선언\n",
        "rfr = RandomForestRegressor(n_estimators=10, random_state=42, n_jobs=-1)\n",
        "# 학습\n",
        "rfr.fit(X_train, y_train)"
      ],
      "execution_count": 24,
      "outputs": [
        {
          "output_type": "execute_result",
          "data": {
            "text/plain": [
              "RandomForestRegressor(bootstrap=True, criterion='mse', max_depth=None,\n",
              "                      max_features='auto', max_leaf_nodes=None,\n",
              "                      min_impurity_decrease=0.0, min_impurity_split=None,\n",
              "                      min_samples_leaf=1, min_samples_split=2,\n",
              "                      min_weight_fraction_leaf=0.0, n_estimators=10, n_jobs=-1,\n",
              "                      oob_score=False, random_state=42, verbose=0,\n",
              "                      warm_start=False)"
            ]
          },
          "metadata": {
            "tags": []
          },
          "execution_count": 24
        }
      ]
    },
    {
      "cell_type": "code",
      "metadata": {
        "id": "ireuTBM3rV45",
        "colab_type": "code",
        "colab": {
          "base_uri": "https://localhost:8080/",
          "height": 36
        },
        "outputId": "80f8e24c-af8f-43a9-a59d-e95835369cb0"
      },
      "source": [
        "# 예측\n",
        "y_predict_rfr = rfr.predict(X_test)\n",
        "y_predict_rfr[:5]"
      ],
      "execution_count": 25,
      "outputs": [
        {
          "output_type": "execute_result",
          "data": {
            "text/plain": [
              "array([  422., 52347., 21229.,  7231.,  7244.])"
            ]
          },
          "metadata": {
            "tags": []
          },
          "execution_count": 25
        }
      ]
    },
    {
      "cell_type": "code",
      "metadata": {
        "id": "ST2T-FU2rV48",
        "colab_type": "code",
        "colab": {}
      },
      "source": [
        "# 예측값을 정답값과 비교하기 위해 test 데이터프레임에 담아준다.\n",
        "test[\"예측거리(M)(RF)\"] = y_predict_rfr"
      ],
      "execution_count": 0,
      "outputs": []
    },
    {
      "cell_type": "code",
      "metadata": {
        "id": "kd0s32BvrV5E",
        "colab_type": "code",
        "colab": {}
      },
      "source": [
        "# 실제값과 예측값을 비교하기 위해 예측의 정답값을 가져온다.\n",
        "y_test = test[label_column]"
      ],
      "execution_count": 0,
      "outputs": []
    },
    {
      "cell_type": "markdown",
      "metadata": {
        "id": "roe94szxrV5T",
        "colab_type": "text"
      },
      "source": [
        "### 평가 지표(Evaluation Metrics)"
      ]
    },
    {
      "cell_type": "code",
      "metadata": {
        "id": "e72NotGbrV5W",
        "colab_type": "code",
        "colab": {}
      },
      "source": [
        "# 성능 평가 비교를 위해 score 변수를 만든다.\n",
        "score = {}\n",
        "score[\"RF\"] = {}"
      ],
      "execution_count": 0,
      "outputs": []
    },
    {
      "cell_type": "code",
      "metadata": {
        "id": "5GzVQ5CYrV5a",
        "colab_type": "code",
        "colab": {
          "base_uri": "https://localhost:8080/",
          "height": 36
        },
        "outputId": "c0ace578-42e0-487d-94e7-408a4443f9b9"
      },
      "source": [
        "# MAE - Mean Absolute Error\n",
        "# 실제값과 예측값의 차이에 절대값을 씌운 후 평균을 구한다.\n",
        "score[\"RF\"][\"MAE\"] = abs(y_predict_rfr - y_test).mean()\n",
        "score[\"RF\"][\"MAE\"]"
      ],
      "execution_count": 29,
      "outputs": [
        {
          "output_type": "execute_result",
          "data": {
            "text/plain": [
              "4954.956002198859"
            ]
          },
          "metadata": {
            "tags": []
          },
          "execution_count": 29
        }
      ]
    },
    {
      "cell_type": "code",
      "metadata": {
        "id": "0_2CVm6VrV5e",
        "colab_type": "code",
        "colab": {
          "base_uri": "https://localhost:8080/",
          "height": 36
        },
        "outputId": "6eee68d4-d97b-4cc3-9332-cf481abe6d60"
      },
      "source": [
        "# RMSE - Root Mean Square Error\n",
        "# 실제값과 예측값의 차이에 제곱을 해서 음수를 양수로 만들고 평균값을 구한 후 루트를 씌워준다.\n",
        "score[\"RF\"][\"RMSE\"] = np.sqrt(\n",
        "    ((y_predict_rfr - y_test)**2).mean()\n",
        ")\n",
        "score[\"RF\"][\"RMSE\"]"
      ],
      "execution_count": 30,
      "outputs": [
        {
          "output_type": "execute_result",
          "data": {
            "text/plain": [
              "12615.591804084099"
            ]
          },
          "metadata": {
            "tags": []
          },
          "execution_count": 30
        }
      ]
    },
    {
      "cell_type": "code",
      "metadata": {
        "id": "jcXtoSwwrV5j",
        "colab_type": "code",
        "colab": {
          "base_uri": "https://localhost:8080/",
          "height": 202
        },
        "outputId": "b65b2112-087e-4a7e-aeab-bf65de47d47a"
      },
      "source": [
        "test[[label_column, \"예측거리(M)(RF)\"]].head()"
      ],
      "execution_count": 31,
      "outputs": [
        {
          "output_type": "execute_result",
          "data": {
            "text/html": [
              "<div>\n",
              "<style scoped>\n",
              "    .dataframe tbody tr th:only-of-type {\n",
              "        vertical-align: middle;\n",
              "    }\n",
              "\n",
              "    .dataframe tbody tr th {\n",
              "        vertical-align: top;\n",
              "    }\n",
              "\n",
              "    .dataframe thead th {\n",
              "        text-align: right;\n",
              "    }\n",
              "</style>\n",
              "<table border=\"1\" class=\"dataframe\">\n",
              "  <thead>\n",
              "    <tr style=\"text-align: right;\">\n",
              "      <th></th>\n",
              "      <th>이용거리(M)</th>\n",
              "      <th>예측거리(M)(RF)</th>\n",
              "    </tr>\n",
              "  </thead>\n",
              "  <tbody>\n",
              "    <tr>\n",
              "      <th>232594</th>\n",
              "      <td>530.0</td>\n",
              "      <td>422.0</td>\n",
              "    </tr>\n",
              "    <tr>\n",
              "      <th>232598</th>\n",
              "      <td>6680.0</td>\n",
              "      <td>52347.0</td>\n",
              "    </tr>\n",
              "    <tr>\n",
              "      <th>232599</th>\n",
              "      <td>6560.0</td>\n",
              "      <td>21229.0</td>\n",
              "    </tr>\n",
              "    <tr>\n",
              "      <th>232602</th>\n",
              "      <td>8670.0</td>\n",
              "      <td>7231.0</td>\n",
              "    </tr>\n",
              "    <tr>\n",
              "      <th>232603</th>\n",
              "      <td>8600.0</td>\n",
              "      <td>7244.0</td>\n",
              "    </tr>\n",
              "  </tbody>\n",
              "</table>\n",
              "</div>"
            ],
            "text/plain": [
              "        이용거리(M)  예측거리(M)(RF)\n",
              "232594    530.0        422.0\n",
              "232598   6680.0      52347.0\n",
              "232599   6560.0      21229.0\n",
              "232602   8670.0       7231.0\n",
              "232603   8600.0       7244.0"
            ]
          },
          "metadata": {
            "tags": []
          },
          "execution_count": 31
        }
      ]
    },
    {
      "cell_type": "markdown",
      "metadata": {
        "id": "bSpbUMskrV5o",
        "colab_type": "text"
      },
      "source": [
        "# Lgbm 사용하기"
      ]
    },
    {
      "cell_type": "code",
      "metadata": {
        "id": "M4OUu8Y5rV5q",
        "colab_type": "code",
        "colab": {}
      },
      "source": [
        "import lightgbm as lgbm\n",
        "\n",
        "def runLGBM(X_train, y_train, X_test, seed_val=42):\n",
        "    params = {\n",
        "        'boosting_type': 'gbdt', 'objective': 'regression', 'nthread': -1, 'verbose': 0,\n",
        "        'num_leaves': 31, 'learning_rate': 0.05, 'max_depth': -1,\n",
        "        'subsample': 0.8, 'subsample_freq': 1, 'colsample_bytree': 0.6, \n",
        "        'reg_alpha': 1, 'reg_lambda': 0.001, 'metric': 'rmse',\n",
        "        'min_split_gain': 0.5, 'min_child_weight': 1, 'min_child_samples': 10, 'scale_pos_weight': 1}\n",
        "    \n",
        "    pred_test_y = np.zeros(X_test.shape[0])\n",
        "    \n",
        "    train_set = lgbm.Dataset(X_train, y_train, silent=True)\n",
        "        \n",
        "    model = lgbm.train(params, train_set=train_set, num_boost_round=300)\n",
        "    pred_test_y = model.predict(X_test, num_iteration = model.best_iteration)\n",
        "        \n",
        "    return pred_test_y , model"
      ],
      "execution_count": 0,
      "outputs": []
    },
    {
      "cell_type": "code",
      "metadata": {
        "id": "IITvtReUrV5w",
        "colab_type": "code",
        "colab": {}
      },
      "source": [
        "y_predict_lgbm, model = runLGBM(X_train, y_train, X_test, seed_val=42)"
      ],
      "execution_count": 0,
      "outputs": []
    },
    {
      "cell_type": "code",
      "metadata": {
        "id": "siJT_M76rV5z",
        "colab_type": "code",
        "colab": {}
      },
      "source": [
        "test[\"예측거리(M)(LGBM)\"] = y_predict_lgbm"
      ],
      "execution_count": 0,
      "outputs": []
    },
    {
      "cell_type": "markdown",
      "metadata": {
        "id": "KdtEk8ngrV53",
        "colab_type": "text"
      },
      "source": [
        "### 평가 지표(Evaluation Metrics)"
      ]
    },
    {
      "cell_type": "code",
      "metadata": {
        "id": "Hs10IHv8rV54",
        "colab_type": "code",
        "colab": {}
      },
      "source": [
        "score[\"LGBM\"] = {}"
      ],
      "execution_count": 0,
      "outputs": []
    },
    {
      "cell_type": "code",
      "metadata": {
        "id": "5vUygfXUrV5_",
        "colab_type": "code",
        "colab": {
          "base_uri": "https://localhost:8080/",
          "height": 36
        },
        "outputId": "c61b5ab0-cdd5-40a8-f286-4cb0caf9773a"
      },
      "source": [
        "# MAE - Mean Absolute Error\n",
        "# 실제값과 예측값의 차이에 절대값을 씌운 후 평균을 구한다.\n",
        "score[\"LGBM\"][\"MAE\"] = abs(y_predict_lgbm - y_test).mean()\n",
        "score[\"LGBM\"][\"MAE\"]"
      ],
      "execution_count": 36,
      "outputs": [
        {
          "output_type": "execute_result",
          "data": {
            "text/plain": [
              "4751.766774001902"
            ]
          },
          "metadata": {
            "tags": []
          },
          "execution_count": 36
        }
      ]
    },
    {
      "cell_type": "code",
      "metadata": {
        "id": "ozN_H5RXrV6E",
        "colab_type": "code",
        "colab": {
          "base_uri": "https://localhost:8080/",
          "height": 36
        },
        "outputId": "f419aec7-50f1-4faa-ba63-d9778b4ab02f"
      },
      "source": [
        "# RMSE - Root Mean Square Error\n",
        "# 실제값과 예측값의 차이에 제곱을 해서 음수를 양수로 만들고 평균값을 구한 후 루트를 씌워준다.\n",
        "score[\"LGBM\"][\"RMSE\"] = np.sqrt(\n",
        "    ((y_predict_lgbm - y_test)**2).mean()\n",
        ")\n",
        "score[\"LGBM\"][\"RMSE\"]"
      ],
      "execution_count": 37,
      "outputs": [
        {
          "output_type": "execute_result",
          "data": {
            "text/plain": [
              "12160.57125367084"
            ]
          },
          "metadata": {
            "tags": []
          },
          "execution_count": 37
        }
      ]
    },
    {
      "cell_type": "code",
      "metadata": {
        "id": "bWMw4h5lrV6L",
        "colab_type": "code",
        "colab": {
          "base_uri": "https://localhost:8080/",
          "height": 55
        },
        "outputId": "b376f34a-4d0a-4917-ff3c-13a5e8edf03f"
      },
      "source": [
        "score"
      ],
      "execution_count": 38,
      "outputs": [
        {
          "output_type": "execute_result",
          "data": {
            "text/plain": [
              "{'LGBM': {'MAE': 4751.766774001902, 'RMSE': 12160.57125367084},\n",
              " 'RF': {'MAE': 4954.956002198859, 'RMSE': 12615.591804084099}}"
            ]
          },
          "metadata": {
            "tags": []
          },
          "execution_count": 38
        }
      ]
    },
    {
      "cell_type": "markdown",
      "metadata": {
        "id": "FkDqGf4ErV6Q",
        "colab_type": "text"
      },
      "source": [
        "### 실제값과 예측값을 시각화\n",
        "* KDE 플롯으로 이용거리에 대한 분포를 그린다."
      ]
    },
    {
      "cell_type": "code",
      "metadata": {
        "id": "Ymf4baXvrV6R",
        "colab_type": "code",
        "colab": {
          "base_uri": "https://localhost:8080/",
          "height": 356
        },
        "outputId": "fedb82f1-91ed-4cf7-840b-0894ec264457"
      },
      "source": [
        "plt.figure(figsize=(15, 5))\n",
        "sns.distplot(test[label_column], label=label_column, hist=False)\n",
        "sns.distplot(test[\"예측거리(M)(RF)\"], label=\"예측거리(M)(RF)\", hist=False)\n",
        "sns.distplot(test[\"예측거리(M)(LGBM)\"], label=\"예측거리(M)(LGBM)\", hist=False)"
      ],
      "execution_count": 39,
      "outputs": [
        {
          "output_type": "execute_result",
          "data": {
            "text/plain": [
              "<matplotlib.axes._subplots.AxesSubplot at 0x7efd9aa29fd0>"
            ]
          },
          "metadata": {
            "tags": []
          },
          "execution_count": 39
        },
        {
          "output_type": "display_data",
          "data": {
            "image/png": "[encoded data removed]",
            "text/plain": [
              "<Figure size 1080x360 with 1 Axes>"
            ]
          },
          "metadata": {
            "tags": [],
            "image/png": {
              "width": 898,
              "height": 320
            }
          }
        }
      ]
    },
    {
      "cell_type": "code",
      "metadata": {
        "id": "CN5J0xoDrV6Y",
        "colab_type": "code",
        "colab": {}
      },
      "source": [
        ""
      ],
      "execution_count": 0,
      "outputs": []
    },
    {
      "cell_type": "markdown",
      "metadata": {
        "id": "YGeK8o3jrV6e",
        "colab_type": "text"
      },
      "source": [
        "## 튜토리얼 만족도 설문\n",
        "\n",
        "튜토리얼에 참여해 주셔서 감사합니다. 설문을 부탁드립니다. https://forms.gle/DPgkHozJNyGFACSv6"
      ]
    },
    {
      "cell_type": "code",
      "metadata": {
        "id": "ibudsUhMrV6g",
        "colab_type": "code",
        "colab": {}
      },
      "source": [
        ""
      ],
      "execution_count": 0,
      "outputs": []
    }
  ]
}